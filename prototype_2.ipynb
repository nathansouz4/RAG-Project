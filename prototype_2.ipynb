{
 "cells": [
  {
   "cell_type": "code",
   "execution_count": 1,
   "metadata": {},
   "outputs": [],
   "source": [
    "import os\n",
    "from dotenv import load_dotenv\n",
    "\n",
    "load_dotenv('app/src/shared/.env')\n",
    "GOOGLE_API_KEY = os.getenv('GOOGLE_API_KEY')\n",
    "OPENAI_API_KEY = os.getenv('OPENAI_API_KEY')"
   ]
  },
  {
   "cell_type": "code",
   "execution_count": 4,
   "metadata": {},
   "outputs": [
    {
     "data": {
      "text/plain": [
       "[Document(page_content='INTRODUCTION: Bronchobiliary fistulas are rare and difficult to treat. Peacock first reported this entity in 1850 while treating a patient with hepatic encopresis.\\nCASE PRESENTATION: A 67-year-old Chinese male patient presented to the outpatient clinic with a complaint of coughing up phlegm with chest tightness for 4 days with symptoms of intermittent bilirubin sputum with a sputum volume of about 500\\xa0ml per day but no symptoms of abdominal pain or jaundice and no yellow urine or steatorrhea. The examination revealed cyanosis of the lips and mouth, barrel chest, low breath sounds on the right side, and a large number of wet rales heard in both lungs. The imaging investigations were suggestive of bronchobiliary fistula. Therefore, the patient was operated on and discharged with no perioperative complications.\\nCONCLUSION: Bronchobiliary fistula should be considered diagnostically in patients with known liver disease who also experience trauma or medical treatment and cough up bile-colored sputum, regardless of the presence of concurrent infections, and in conjunction with radiological expertise to identify it. Here, we report a case of bronchobiliary fistula and a brief review of the literature on it.', metadata={'uid': '38910252', 'Title': 'Bronchobiliary fistula after traumatic liver rupture: a case report.', 'Published': '2024-06-24', 'Copyright Information': '© 2024. The Author(s).'}),\n",
       " Document(page_content=\"BACKGROUND: In the last two decades, a significant increase in the number of Clostridioides difficile infection (CDI) cases has been observed. It is understandable to attempt to determine the factors that can predict the severity of the course of the infection and identify patients at risk of death. This study aimed to analyze the factors affecting the incidence and mortality of CDI in inpatient treatment at the University Clinical Hospital in Wrocław in 2016-2018.\\nMETHODS: Statistical analysis of data obtained from patients' medical records was performed. Only patients with symptoms of infection and infection confirmed by laboratory tests were enrolled in the study. When analyzing the number of deaths, only adult patients who died in hospital wards were included. The quantitative data including laboratory tests, used antibiotics and Nutritional Risk Screening (NRS) were assessed. Also, the qualitative data such as sex, year of hospitalization, occurrence of diarrhoea on admission to the hospital, presence of additional diseases, as wee ad the use of antibacterial drugs or proton pump blockers and ranitidine during hospitalization were analyzed.\\nRESULTS: A total of 319 adult CDI patients (178 women and 141 men) were enrolled of which 80 people died (50 women and 30 men). The mean age of the patients was 72.08\\u2009±\\u200916.74 years. Over the entire period studied, the morbidity was 174 cases per 100,000 hospitalizations while mortality was 25.08%. The group of deceased patients was characterized by: older age (by 9.24 years), longer duration of hospitalization (by 10 days), reduced albumin levels (Rho = -0.235, p\\u2009<\\u20090.001), higher urea levels, use of more antibiotics, higher risk of malnutrition in NRS (Rho\\u2009=\\u20090.219, p\\u2009<\\u20090.001), higher incidence of sepsis, heart failure, stroke, hypothyroidism. Pneumonia was diagnosed twice as often. It was also shown that deceased patients were significantly more likely to take penicillin and fluoroquinolones.\\nCONCLUSIONS: In this study, the morbidity was lower, but mortality was higher compared to similar hospitals in Poland. CDI patients were characterized by older age, multimorbidity, extended hospitalization, and the use of broad-spectrum antibiotics. Risk factors for death included advanced age, prolonged hospital stays, lower albumin, higher urea, malnutrition, and comorbidities like heart failure, stroke, pneumonia, sepsis, and hypothyroidism. Increased antibiotic use, particularly penicillin and fluoroquinolones, was associated with a higher mortality risk.\", metadata={'uid': '38910242', 'Title': 'Mortality in clostridioides difficile infection among patients hospitalized at the university clinical hospital in Wroclaw, Poland - a 3-year observational study.', 'Published': '2024-06-23', 'Copyright Information': '© 2024. The Author(s).'}),\n",
       " Document(page_content=\"We describe the case of a 57-year-old male with jaundice, abdominal distension and fatigue. He was diagnosed as chronic active Epstein-Barr virus infection (CAEBV) due to intermittent elevated liver enzymes, hepatosplenomegaly and pancytopenia, with persistent positive of EBV biomarkers in blood and also positive in liver tissue. The patient was reinfected by SARS-CoV-2 within 2\\xa0months companied with CAEBV. The patient's second infection with SARS-CoV-2 led to the aggravated liver dysfunction with pneumonia and re-admission. After receiving symptomatic treatment, the patient showed significantly improvement of symptoms with partially restoration of liver function. After discharge, the patient's health status continued to deteriorate and eventually died. The instances of SARS-CoV-2 co-infection with the original chronic virus are not uncommon, but the exact mechanism of EBV and SARS-CoV-2 coinfection and the relationship between them are still unclear. Since co-infection of SARS-CoV-2 with original chronic virus might affect each other and lead disease aggravated and complicated, it is necessary to differentiate in the diagnosis of disease and it is important to be aware of the re-infection signs of SARS-CoV-2 in people with chronic virus infection diseases, as well as the risk of co-infection of SARS-CoV-2 with other viruses.\", metadata={'uid': '38910238', 'Title': 'Chronic active Epstein-Barr virus infection with reinfection of SARS-CoV-2: a case report.', 'Published': '2024-06-24', 'Copyright Information': '© 2024. The Author(s).'}),\n",
       " Document(page_content='BACKGROUND: Liver cancer (LC) is a prevalent malignancy and a leading cause of cancer-related mortality worldwide. Extensive research has been conducted to enhance patient outcomes and develop effective prevention strategies, ranging from molecular mechanisms to clinical interventions. Single-cell sequencing, as a novel bioanalysis technology, has significantly contributed to the understanding of the global cognition and dynamic changes in liver cancer. However, there is a lack of bibliometric analysis in this specific research area. Therefore, the objective of this study is to provide a comprehensive overview of the knowledge structure and research hotspots in the field of single-cell sequencing in liver cancer research through the use of bibliometrics.\\nMETHOD: Publications related to the application of single-cell sequencing technology to liver cancer research as of December 31, 2023, were searched on the web of science core collection (WoSCC) database. VOSviewers, CiteSpace, and R package \"bibliometrix\" were used to conduct this bibliometric analysis.\\nRESULTS: A total of 331 publications from 34 countries, primarily led by China and the United States, were included in this study. The research focuses on the application of single cell sequencing technology to liver cancer, and the number of related publications has been increasing year by year. The main research institutions involved in this field are Fudan University, Sun Yat-Sen University, and the Chinese Academy of Sciences. Frontiers in Immunology and Nature Communications is the most popular journal in this field, while Cell is the most frequently co-cited journal. These publications are authored by 2799 individuals, with Fan Jia and Zhou Jian having the most published papers, and Llovet Jm being the most frequently co-cited author. The use of single cell sequencing to explore the immune microenvironment of liver cancer, as well as its implications in immunotherapy and chemotherapy, remains the central focus of this field. The emerging research hotspots are characterized by keywords such as \\'Gene-Expression\\', \\'Prognosis\\', \\'Tumor Heterogeneity\\', \\'Immunoregulation\\', and \\'Tumor Immune Microenvironment\\'.\\nCONCLUSION: This is the first bibliometric study that comprehensively summarizes the research trends and developments on the application of single cell sequencing in liver cancer. The study identifies recent research frontiers and hot directions, providing a valuable reference for researchers exploring the landscape of liver cancer, understanding the composition of the immune microenvironment, and utilizing single-cell sequencing technology to guide and enhance the prognosis of liver cancer patients.', metadata={'uid': '38910204', 'Title': 'Liver cancer from the perspective of single-cell sequencing: a review combined with bibliometric analysis.', 'Published': '2024-06-24', 'Copyright Information': '© 2024. The Author(s).'}),\n",
       " Document(page_content='PURPOSE: Immunohistochemical staining of programmed death-ligand 1 (PD-L1) in tumor biopsies acquired through invasive procedures is routinely employed in clinical practice to identify patients who are most likely to benefit from anti-programmed cell death protein 1 (PD-1) therapy. Nevertheless, PD-L1 expression is observed in various cellular subsets within tumors and their microenvironments, including tumor cells, dendritic cells, and macrophages. The impact of PD-L1 expression across these different cell types on the responsiveness to anti-PD-1 treatment is yet to be fully understood.\\nMETHODS: We synthesized polymer-based lysosome-targeting chimeras (LYTACs) that incorporate both PD-L1-targeting motifs and liver cell-specific asialoglycoprotein receptor (ASGPR) recognition elements. Small-animal positron emission tomography (PET) imaging of PD-L1 expression was also conducted using a PD-L1-specific radiotracer Zr-αPD-L1/Fab.\\nRESULTS: The PD-L1 LYTAC platform was capable of specifically degrading PD-L1 expressed on liver cancer cells through the lysosomal degradation pathway via ASGPR without impacting the PD-L1 expression on host cells. When coupled with whole-body PD-L1 PET imaging, our studies revealed that host cell PD-L1, rather than tumor cell PD-L1, is pivotal in the antitumor response to anti-PD-1 therapy in a mouse model of liver cancer.\\nCONCLUSION: The LYTAC strategy, enhanced by PET imaging, has the potential to surmount the limitations of knockout mouse models and to provide a versatile approach for the selective degradation of target proteins in vivo. This could significantly aid in the investigation of the roles and mechanisms of protein functions associated with specific cell subsets in living subjects.', metadata={'uid': '38910165', 'Title': 'Targeted protein degradation combined with PET imaging reveals the role of host PD-L1 in determining anti-PD-1 therapy efficacy.', 'Published': '2024-06-24', 'Copyright Information': '© 2024. The Author(s), under exclusive licence to Springer-Verlag GmbH Germany, part of Springer Nature.'}),\n",
       " Document(page_content='This study aimed to systematically evaluate the efficacy of liraglutide in treating type 2 diabetes mellitus (T2DM) complicated with non-alcoholic fatty liver disease (NAFLD) by comparing liraglutide with placebo or other drugs (mainly insulin). The PubMed, Web of Science, and National Library of Medicine databases were systematically searched from their inception until December 1, 2023. A meta-analysis was performed using Stata 15.1 software. A total of 12 studies with 13 outcome measures were included. The meta-analysis results revealed that liraglutide significantly reduced body mass index (mean difference [MD] = -1.06, 95%CI: -1.41, -0.70, p < 0.001), triglycerides (MD = -0.35, 95%CI: -0.61, -0.09, p = 0.0009), visceral adipose tissue (MD = -21.06, 95%CI: -34.58, -7.55, p = 0.002), and subcutaneous adipose tissue (MD = -20.53, 95%CI: -29.15, -11.90, p < 0.001) levels in patients with T2DM and NAFLD. Of the 11 studies, 2 reported the occurrence of adverse reactions, which were primarily gastrointestinal. Compared with placebo and other drugs (e.g., insulin), liraglutide may improve glucose metabolism, lipid and liver function parameters, and visceral and subcutaneous fat in patients with T2DM and NAFLD, thus constituting an effective treatment for these patients.', metadata={'uid': '38910131', 'Title': 'Meta-analysis of the clinical efficacy of liraglutide in treating type 2 diabetes mellitus complicated with non-alcoholic fatty liver disease.', 'Published': '2024-06-22', 'Copyright Information': ''}),\n",
       " Document(page_content='Fibroblast growth factor (FGF) 21, a hormone produced by the liver, improves glucose and lipid metabolism. We recently demonstrated that the FGF21 gene (Fgf21) underwent DNA demethylation in the mouse liver via peroxisome proliferator-activated receptor (PPAR) α during the fetal to lactation periods. Furthermore, we found that the DNA methylation state of Fgf21 was involved in obesity in adult animals. In the present study, we analyzed the DNA methylation state of the FGF21 gene (FGF21) in obese patients using genomic DNA extracted from human monocytes and macrophages and investigated the pathophysiological significance of the FGF21 expression response to pemafibrate (PM), a PPARα ligand. We examined 67 patients with obesity stratified into in- and outpatient cohorts. A positive correlation was observed between serum FGF21 levels and triglyceride (TG) levels before PM administration. However, changes in serum FGF21 levels following PM administration did not correlate with the FGF21 DNA methylation rate, except at one CpG site. The body mass index (BMI) and serum TG levels positively correlated with the FGF21 DNA methylation rate, particularly at different CpG positions. A negative correlation was observed between absolute changes in serum FGF21 levels and the ratio of change in serum TG levels after PM administration. Collectively, these results indicate the potential of FGF21 DNA methylation as a surrogate indicator of BMI and serum TG levels, while absolute changes in serum FGF21 levels after PM administration may offer prognostic insights into the efficacy of reducing serum TG levels through PM administration.', metadata={'uid': '38910123', 'Title': 'Analysis of serum levels and DNA methylation of fibroblast growth factor 21 using peripheral blood-derived genomes in patients with obesity.', 'Published': '2024-06-21', 'Copyright Information': ''}),\n",
       " Document(page_content=\"BACKGROUNDS/AIMS: The trends in mortality of hepatocellular carcinoma (HCC) and biliary tract cancers stratified by sex and race/ethnicity in the US continue to evolve. We estimated the sex- and race/ethnicity-based trends in HCC and biliary tract cancers-related mortality in US adults with a focus on disease burden.\\nMETHODS: We performed a population-based analysis using the US national mortality records from 2018 to 2023. We identified HCC and biliary tract cancer using appropriate ICD-10 codes. Temporal trends in mortality were calculated by joinpoint analysis with annual percentage change (APC).\\nRESULTS: Annual age-standardized mortality from HCC decreased steadily with an APC of -1.4% (95% confidence interval [CI]: -2.0% to -0.7%). While there was a linear increase in intrahepatic cholangiocarcinoma-related mortality (APC: 3.1%, 95% CI: 1.2%-4.9%) and ampulla of Vater cancer-related mortality (APC: 4.1%, 95% CI: 0.5%-7.9%), gallbladder cancer-related mortality decreased (APC: -1.9%, 95% CI: -3.8% to -0.0%). Decreasing trends in mortality from HCC were noted in males, not females. HCC-related mortality decreased more steeply in racial and ethnic minority individuals compared with non-Hispanic White individuals. Racial and ethnic differences in trends in mortality for biliary tract cancers depended on the malignancy's anatomical site.\\nCONCLUSION: While the annual mortality for HCC- and gallbladder cancer demonstrated declining trends, ICC and AVC-related mortality continued to increase from 2018 to 2023. Although racial and ethnic minority individuals in the US experienced disproportionately higher HCC and biliary tract cancer, recent declines in HCC may be primarily due to declines among racial and ethnic minority individuals and males.\", metadata={'uid': '38910110', 'Title': 'Burden of Mortality from Hepatocellular Carcinoma and Biliary Tract Cancers by Race and Ethnicity and Sex in US, 2018-2023.', 'Published': '2024-06-24', 'Copyright Information': ''}),\n",
       " Document(page_content='Familial lecithin:cholesterol acyltransferase (LCAT) deficiency (FLD) is an ultra-rare autosomal recessive disease characterized by very low HDL-C levels, corneal opacity, anemia, and progressive renal disease. The rate and severity of renal disease are variable across FLD patients and the biomarkers and risk factors for disease progression are poorly understood. Here we report a 30 year-long comparative analysis of the clinical and laboratory biomarkers in an FLD patient with accelerated renal decline, who underwent 2 kidney and one liver transplantations. Results show that elevated TG and non-HDL-C levels may promote the formation of LpX and accelerate renal function decline, whereas markers of anemia may be early predictors. Conversely, corneal opacity progresses at a steady rate and does not correlate with lipid, hematologic, or renal biomarkers. Our study suggests that monitoring of markers of anemia may aid the early detection and timely management of kidney disease with conservative therapies. Furthermore, it suggests that controlling hypercholesterolemia and hypertriglyceridemia may help improve renal disease prognosis.', metadata={'uid': '38910105', 'Title': 'Longitudinal analysis of clinical and laboratory biomarkers in a patient with familial lecithin: Cholesterol acyltransferase deficiency (FLD) and accelerated eGFR decline: A case study.', 'Published': '2024-03-13', 'Copyright Information': 'Copyright © 2024. Published by Elsevier Inc.'}),\n",
       " Document(page_content='No abstract available', metadata={'uid': '38910074', 'Title': 'Primary antibody deficiency, pernicious anaemia and gastric cancer: An intriguing triangular relationship.', 'Published': '2024-06-22', 'Copyright Information': ''})]"
      ]
     },
     "execution_count": 4,
     "metadata": {},
     "output_type": "execute_result"
    }
   ],
   "source": [
    "from langchain_community.document_loaders import PubMedLoader\n",
    "\n",
    "loader = PubMedLoader(\"liver\", load_max_docs=10)\n",
    "documents = loader.load()\n",
    "documents"
   ]
  },
  {
   "cell_type": "code",
   "execution_count": 5,
   "metadata": {},
   "outputs": [
    {
     "data": {
      "application/vnd.jupyter.widget-view+json": {
       "model_id": "07924156d9fb4705835a31dc4953b069",
       "version_major": 2,
       "version_minor": 0
      },
      "text/plain": [
       "embedding nodes:   0%|          | 0/20 [00:00<?, ?it/s]"
      ]
     },
     "metadata": {},
     "output_type": "display_data"
    },
    {
     "name": "stderr",
     "output_type": "stream",
     "text": [
      "Filename and doc_id are the same for all nodes.\n"
     ]
    },
    {
     "data": {
      "application/vnd.jupyter.widget-view+json": {
       "model_id": "eef1fb77943a413eb58d7ca18619c172",
       "version_major": 2,
       "version_minor": 0
      },
      "text/plain": [
       "Generating:   0%|          | 0/10 [00:00<?, ?it/s]"
      ]
     },
     "metadata": {},
     "output_type": "display_data"
    },
    {
     "data": {
      "text/html": [
       "<div>\n",
       "<style scoped>\n",
       "    .dataframe tbody tr th:only-of-type {\n",
       "        vertical-align: middle;\n",
       "    }\n",
       "\n",
       "    .dataframe tbody tr th {\n",
       "        vertical-align: top;\n",
       "    }\n",
       "\n",
       "    .dataframe thead th {\n",
       "        text-align: right;\n",
       "    }\n",
       "</style>\n",
       "<table border=\"1\" class=\"dataframe\">\n",
       "  <thead>\n",
       "    <tr style=\"text-align: right;\">\n",
       "      <th></th>\n",
       "      <th>question</th>\n",
       "      <th>contexts</th>\n",
       "      <th>ground_truth</th>\n",
       "      <th>evolution_type</th>\n",
       "      <th>metadata</th>\n",
       "      <th>episode_done</th>\n",
       "    </tr>\n",
       "  </thead>\n",
       "  <tbody>\n",
       "    <tr>\n",
       "      <th>0</th>\n",
       "      <td>What is the role of ASGPR in the selective deg...</td>\n",
       "      <td>[PURPOSE: Immunohistochemical staining of prog...</td>\n",
       "      <td>The ASGPR (asialoglycoprotein receptor) plays ...</td>\n",
       "      <td>simple</td>\n",
       "      <td>[{'uid': '38910165', 'Title': 'Targeted protei...</td>\n",
       "      <td>True</td>\n",
       "    </tr>\n",
       "    <tr>\n",
       "      <th>1</th>\n",
       "      <td>What are the temporal trends in mortality for ...</td>\n",
       "      <td>[BACKGROUNDS/AIMS: The trends in mortality of ...</td>\n",
       "      <td>Annual age-standardized mortality from HCC dec...</td>\n",
       "      <td>simple</td>\n",
       "      <td>[{'uid': '38910110', 'Title': 'Burden of Morta...</td>\n",
       "      <td>True</td>\n",
       "    </tr>\n",
       "    <tr>\n",
       "      <th>2</th>\n",
       "      <td>How can markers of anemia aid in the early det...</td>\n",
       "      <td>[Familial lecithin:cholesterol acyltransferase...</td>\n",
       "      <td>Markers of anemia may aid in the early detecti...</td>\n",
       "      <td>simple</td>\n",
       "      <td>[{'uid': '38910105', 'Title': 'Longitudinal an...</td>\n",
       "      <td>True</td>\n",
       "    </tr>\n",
       "    <tr>\n",
       "      <th>3</th>\n",
       "      <td>How can PET imaging enhance the understanding ...</td>\n",
       "      <td>[PURPOSE: Immunohistochemical staining of prog...</td>\n",
       "      <td>The LYTAC strategy, enhanced by PET imaging, h...</td>\n",
       "      <td>simple</td>\n",
       "      <td>[{'uid': '38910165', 'Title': 'Targeted protei...</td>\n",
       "      <td>True</td>\n",
       "    </tr>\n",
       "    <tr>\n",
       "      <th>4</th>\n",
       "      <td>What were the symptoms observed in the patient...</td>\n",
       "      <td>[INTRODUCTION: Bronchobiliary fistulas are rar...</td>\n",
       "      <td>The symptoms observed in the patient with bron...</td>\n",
       "      <td>simple</td>\n",
       "      <td>[{'uid': '38910252', 'Title': 'Bronchobiliary ...</td>\n",
       "      <td>True</td>\n",
       "    </tr>\n",
       "    <tr>\n",
       "      <th>5</th>\n",
       "      <td>What factors contribute to higher rates of HCC...</td>\n",
       "      <td>[BACKGROUNDS/AIMS: The trends in mortality of ...</td>\n",
       "      <td>nan</td>\n",
       "      <td>multi_context</td>\n",
       "      <td>[{'uid': '38910110', 'Title': 'Burden of Morta...</td>\n",
       "      <td>True</td>\n",
       "    </tr>\n",
       "    <tr>\n",
       "      <th>6</th>\n",
       "      <td>What are the risks and complications of co-inf...</td>\n",
       "      <td>[We describe the case of a 57-year-old male wi...</td>\n",
       "      <td>nan</td>\n",
       "      <td>multi_context</td>\n",
       "      <td>[{'uid': '38910238', 'Title': 'Chronic active ...</td>\n",
       "      <td>True</td>\n",
       "    </tr>\n",
       "    <tr>\n",
       "      <th>7</th>\n",
       "      <td>What factors contribute to corneal opacity pro...</td>\n",
       "      <td>[Familial lecithin:cholesterol acyltransferase...</td>\n",
       "      <td>Corneal opacity progression in patients with F...</td>\n",
       "      <td>multi_context</td>\n",
       "      <td>[{'uid': '38910105', 'Title': 'Longitudinal an...</td>\n",
       "      <td>True</td>\n",
       "    </tr>\n",
       "    <tr>\n",
       "      <th>8</th>\n",
       "      <td>How can PD-L1 PET imaging and anti-PD-1 therap...</td>\n",
       "      <td>[PURPOSE: Immunohistochemical staining of prog...</td>\n",
       "      <td>PD-L1 PET imaging and anti-PD-1 therapy can en...</td>\n",
       "      <td>multi_context</td>\n",
       "      <td>[{'uid': '38910165', 'Title': 'Targeted protei...</td>\n",
       "      <td>True</td>\n",
       "    </tr>\n",
       "    <tr>\n",
       "      <th>9</th>\n",
       "      <td>What is the relationship between the DNA methy...</td>\n",
       "      <td>[Fibroblast growth factor (FGF) 21, a hormone ...</td>\n",
       "      <td>The DNA methylation state of the FGF21 gene in...</td>\n",
       "      <td>reasoning</td>\n",
       "      <td>[{'uid': '38910123', 'Title': 'Analysis of ser...</td>\n",
       "      <td>True</td>\n",
       "    </tr>\n",
       "  </tbody>\n",
       "</table>\n",
       "</div>"
      ],
      "text/plain": [
       "                                            question  \\\n",
       "0  What is the role of ASGPR in the selective deg...   \n",
       "1  What are the temporal trends in mortality for ...   \n",
       "2  How can markers of anemia aid in the early det...   \n",
       "3  How can PET imaging enhance the understanding ...   \n",
       "4  What were the symptoms observed in the patient...   \n",
       "5  What factors contribute to higher rates of HCC...   \n",
       "6  What are the risks and complications of co-inf...   \n",
       "7  What factors contribute to corneal opacity pro...   \n",
       "8  How can PD-L1 PET imaging and anti-PD-1 therap...   \n",
       "9  What is the relationship between the DNA methy...   \n",
       "\n",
       "                                            contexts  \\\n",
       "0  [PURPOSE: Immunohistochemical staining of prog...   \n",
       "1  [BACKGROUNDS/AIMS: The trends in mortality of ...   \n",
       "2  [Familial lecithin:cholesterol acyltransferase...   \n",
       "3  [PURPOSE: Immunohistochemical staining of prog...   \n",
       "4  [INTRODUCTION: Bronchobiliary fistulas are rar...   \n",
       "5  [BACKGROUNDS/AIMS: The trends in mortality of ...   \n",
       "6  [We describe the case of a 57-year-old male wi...   \n",
       "7  [Familial lecithin:cholesterol acyltransferase...   \n",
       "8  [PURPOSE: Immunohistochemical staining of prog...   \n",
       "9  [Fibroblast growth factor (FGF) 21, a hormone ...   \n",
       "\n",
       "                                        ground_truth evolution_type  \\\n",
       "0  The ASGPR (asialoglycoprotein receptor) plays ...         simple   \n",
       "1  Annual age-standardized mortality from HCC dec...         simple   \n",
       "2  Markers of anemia may aid in the early detecti...         simple   \n",
       "3  The LYTAC strategy, enhanced by PET imaging, h...         simple   \n",
       "4  The symptoms observed in the patient with bron...         simple   \n",
       "5                                                nan  multi_context   \n",
       "6                                                nan  multi_context   \n",
       "7  Corneal opacity progression in patients with F...  multi_context   \n",
       "8  PD-L1 PET imaging and anti-PD-1 therapy can en...  multi_context   \n",
       "9  The DNA methylation state of the FGF21 gene in...      reasoning   \n",
       "\n",
       "                                            metadata  episode_done  \n",
       "0  [{'uid': '38910165', 'Title': 'Targeted protei...          True  \n",
       "1  [{'uid': '38910110', 'Title': 'Burden of Morta...          True  \n",
       "2  [{'uid': '38910105', 'Title': 'Longitudinal an...          True  \n",
       "3  [{'uid': '38910165', 'Title': 'Targeted protei...          True  \n",
       "4  [{'uid': '38910252', 'Title': 'Bronchobiliary ...          True  \n",
       "5  [{'uid': '38910110', 'Title': 'Burden of Morta...          True  \n",
       "6  [{'uid': '38910238', 'Title': 'Chronic active ...          True  \n",
       "7  [{'uid': '38910105', 'Title': 'Longitudinal an...          True  \n",
       "8  [{'uid': '38910165', 'Title': 'Targeted protei...          True  \n",
       "9  [{'uid': '38910123', 'Title': 'Analysis of ser...          True  "
      ]
     },
     "execution_count": 5,
     "metadata": {},
     "output_type": "execute_result"
    }
   ],
   "source": [
    "from ragas.testset.generator import TestsetGenerator\n",
    "from ragas.testset.evolutions import simple, reasoning, multi_context\n",
    "from langchain_openai import ChatOpenAI, OpenAIEmbeddings\n",
    "\n",
    "# documents = load your documents\n",
    "\n",
    "# generator with openai models\n",
    "generator_llm = ChatOpenAI(model=\"gpt-3.5-turbo-16k\")\n",
    "critic_llm = ChatOpenAI(model=\"gpt-4\")\n",
    "embeddings = OpenAIEmbeddings()\n",
    "\n",
    "generator = TestsetGenerator.from_langchain(\n",
    "    generator_llm,\n",
    "    critic_llm,\n",
    "    embeddings\n",
    ")\n",
    "\n",
    "# Change resulting question type distribution\n",
    "distributions = {\n",
    "    simple: 0.5,\n",
    "    multi_context: 0.4,\n",
    "    reasoning: 0.1\n",
    "}\n",
    "\n",
    "testset = generator.generate_with_langchain_docs(documents, 10, distributions) \n",
    "testset.to_pandas()"
   ]
  },
  {
   "cell_type": "code",
   "execution_count": 6,
   "metadata": {},
   "outputs": [
    {
     "data": {
      "application/vnd.jupyter.widget-view+json": {
       "model_id": "c09259f5386a4bfcbe91863143c4b95c",
       "version_major": 2,
       "version_minor": 0
      },
      "text/plain": [
       "Evaluating:   0%|          | 0/2 [00:00<?, ?it/s]"
      ]
     },
     "metadata": {},
     "output_type": "display_data"
    },
    {
     "data": {
      "text/html": [
       "<div>\n",
       "<style scoped>\n",
       "    .dataframe tbody tr th:only-of-type {\n",
       "        vertical-align: middle;\n",
       "    }\n",
       "\n",
       "    .dataframe tbody tr th {\n",
       "        vertical-align: top;\n",
       "    }\n",
       "\n",
       "    .dataframe thead th {\n",
       "        text-align: right;\n",
       "    }\n",
       "</style>\n",
       "<table border=\"1\" class=\"dataframe\">\n",
       "  <thead>\n",
       "    <tr style=\"text-align: right;\">\n",
       "      <th></th>\n",
       "      <th>question</th>\n",
       "      <th>answer</th>\n",
       "      <th>ground_truth</th>\n",
       "      <th>answer_correctness</th>\n",
       "    </tr>\n",
       "  </thead>\n",
       "  <tbody>\n",
       "    <tr>\n",
       "      <th>0</th>\n",
       "      <td>When was the first super bowl?</td>\n",
       "      <td>The first superbowl was held on Jan 15, 1967</td>\n",
       "      <td>The first superbowl was held on January 15, 1967</td>\n",
       "      <td>0.749093</td>\n",
       "    </tr>\n",
       "    <tr>\n",
       "      <th>1</th>\n",
       "      <td>Who won the most super bowls?</td>\n",
       "      <td>The most super bowls have been won by The New ...</td>\n",
       "      <td>The New England Patriots have won the Super Bo...</td>\n",
       "      <td>0.981086</td>\n",
       "    </tr>\n",
       "  </tbody>\n",
       "</table>\n",
       "</div>"
      ],
      "text/plain": [
       "                         question  \\\n",
       "0  When was the first super bowl?   \n",
       "1   Who won the most super bowls?   \n",
       "\n",
       "                                              answer  \\\n",
       "0       The first superbowl was held on Jan 15, 1967   \n",
       "1  The most super bowls have been won by The New ...   \n",
       "\n",
       "                                        ground_truth  answer_correctness  \n",
       "0   The first superbowl was held on January 15, 1967            0.749093  \n",
       "1  The New England Patriots have won the Super Bo...            0.981086  "
      ]
     },
     "execution_count": 6,
     "metadata": {},
     "output_type": "execute_result"
    }
   ],
   "source": [
    "from datasets import Dataset \n",
    "from ragas.metrics import faithfulness, answer_correctness\n",
    "from ragas import evaluate\n",
    "\n",
    "data_samples = {\n",
    "    'question': ['When was the first super bowl?', 'Who won the most super bowls?'],\n",
    "    'answer': ['The first superbowl was held on Jan 15, 1967', 'The most super bowls have been won by The New England Patriots'],\n",
    "    'ground_truth': ['The first superbowl was held on January 15, 1967', 'The New England Patriots have won the Super Bowl a record six times']\n",
    "}\n",
    "dataset = Dataset.from_dict(data_samples)\n",
    "score = evaluate(dataset,metrics=[answer_correctness])\n",
    "score.to_pandas()"
   ]
  }
 ],
 "metadata": {
  "kernelspec": {
   "display_name": "tcc",
   "language": "python",
   "name": "python3"
  },
  "language_info": {
   "codemirror_mode": {
    "name": "ipython",
    "version": 3
   },
   "file_extension": ".py",
   "mimetype": "text/x-python",
   "name": "python",
   "nbconvert_exporter": "python",
   "pygments_lexer": "ipython3",
   "version": "3.12.2"
  }
 },
 "nbformat": 4,
 "nbformat_minor": 2
}
