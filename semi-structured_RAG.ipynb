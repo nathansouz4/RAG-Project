{
 "cells": [
  {
   "cell_type": "markdown",
   "metadata": {},
   "source": [
    "# Semi-structured RAG"
   ]
  },
  {
   "cell_type": "markdown",
   "metadata": {},
   "source": [
    "## Load environment variables"
   ]
  },
  {
   "cell_type": "code",
   "execution_count": 1,
   "metadata": {},
   "outputs": [
    {
     "data": {
      "text/plain": [
       "True"
      ]
     },
     "execution_count": 1,
     "metadata": {},
     "output_type": "execute_result"
    }
   ],
   "source": [
    "from dotenv import load_dotenv\n",
    "\n",
    "load_dotenv('app/src/shared/.env')"
   ]
  },
  {
   "cell_type": "markdown",
   "metadata": {},
   "source": [
    "## Load data "
   ]
  },
  {
   "cell_type": "markdown",
   "metadata": {},
   "source": [
    "As normas brasileiras relacionadas a instalações elétricas abrangem uma variedade de aspectos, desde baixa tensão até instalações específicas em locais como áreas classificadas e sistemas fotovoltaicos. As principais normas da Associação Brasileira de Normas Técnicas (ABNT) sobre instalações elétricas incluem:\n",
    "\n",
    "* NBR 5410 - Instalações elétricas de baixa tensão: Trata das condições para o projeto, execução e manutenção de instalações elétricas de baixa tensão.\n",
    "\n",
    "* NBR 14039 - Instalações elétricas de média tensão de 1,0 kV a 36,2 kV: Estabelece as condições para projeto, execução e manutenção dessas instalações.\n",
    "\n",
    "* NBR 5413 - Iluminância de interiores: Define os requisitos para níveis de iluminância em ambientes internos.\n",
    "\n",
    "* NBR 13570 -  Instalações Elétricas em Locais de Afluência de Público - Requisitos específicos\n",
    "\n",
    "* ABNT NBR IEC 60079-14 - Instalações elétricas em atmosferas explosivas - Área classificada: Requisitos para instalações em áreas com risco de explosão.\n",
    "\n",
    "* NBR 10898 - Sistemas de iluminação de emergência: Especifica os requisitos para sistemas de iluminação de emergência em edifícios.\n",
    "\n",
    "* NBR 15514 - Recipientes transportáveis de gás liquefeito de petróleo (GLP) — Área de armazenamento — Requisitos de segurança\n",
    "    * Embora a norma NBR 15514 não seja diretamente uma norma de instalações elétricas, ela possui interseções com a área elétrica em aspectos relacionados à segurança, especialmente devido aos riscos potenciais de explosões e incêndios associados ao GLP.\n",
    "* NBR 5419 - Proteção contra descargas atmosféricas (em quatro partes):\n",
    "\n",
    "    * Parte 1: Princípios gerais\n",
    "    * Parte 2: Gerenciamento de risco\n",
    "    * Parte 3: Danos físicos a edificações e perigos à vida\n",
    "    * Parte 4: Sistemas elétricos e eletrônicos internos na estrutura\n",
    "\n",
    "    * NBR 16280 - Reforma em edificações - Sistema de gestão de reformas: Estabelece requisitos para reformas em edificações, incluindo instalações elétricas.\n",
    "\n",
    "\n",
    "Essas são algumas das principais normas que tratam de diversos aspectos das instalações elétricas no Brasil, garantindo segurança, eficiência e conformidade técnica."
   ]
  },
  {
   "cell_type": "code",
   "execution_count": 2,
   "metadata": {},
   "outputs": [],
   "source": [
    "import os\n",
    "import logging\n",
    "from concurrent.futures import ThreadPoolExecutor\n",
    "from typing import List\n",
    "from unstructured.partition.pdf import partition_pdf\n",
    "\n",
    "# Configure logging \n",
    "logging.basicConfig(filename='pdf_processing.log', level=logging.INFO, format='%(asctime)s %(message)s')\n",
    "\n",
    "def process_pdf_file(filename, path):\n",
    "    \"\"\"Processes a single PDF file and returns the extracted elements.\n",
    "\n",
    "    Logs information and errors during processing.\n",
    "    \"\"\"\n",
    "    try:\n",
    "        raw_pdf_elements = partition_pdf(\n",
    "            filename=os.path.join(path, filename),  # Combine path and filename\n",
    "            extract_images_in_pdf=False,\n",
    "            infer_table_structure=True,\n",
    "            chunking_strategy=\"by_title\",\n",
    "            max_characters=4000,\n",
    "            new_after_n_chars=3800,\n",
    "            combine_text_under_n_chars=2000\n",
    "        )\n",
    "        logging.info(f\"Successfully processed PDF: {filename}\")\n",
    "        return raw_pdf_elements\n",
    "    except Exception as e:  # Catch specific PDF processing errors\n",
    "        logging.error(f\"Error processing PDF: {filename} - {e}\")\n",
    "        return []\n",
    "\n",
    "def process_single_pdf(pdf_folder_path: str, filename: str):\n",
    "    \"\"\"Helper function to process a single PDF file.\"\"\"\n",
    "    if filename.endswith(\".pdf\"):\n",
    "        logging.info(f\"Reading PDF doc: {filename}\")\n",
    "        return process_pdf_file(filename, pdf_folder_path)\n",
    "    return []\n",
    "\n",
    "# Loop through PDF Files with ThreadPoolExecutor:\n",
    "def process_multiple_pdfs(pdf_folder_path: str, max_workers: int = 4) -> List:\n",
    "    \"\"\"Processes all PDF files within a specified folder using ThreadPoolExecutor.\n",
    "\n",
    "    Logs information and errors during processing.\n",
    "    \"\"\"\n",
    "    all_elements = []\n",
    "    filenames = [filename for filename in os.listdir(pdf_folder_path) if filename.endswith(\".pdf\")]\n",
    "\n",
    "    with ThreadPoolExecutor(max_workers=max_workers) as executor:\n",
    "        results = executor.map(lambda filename: process_single_pdf(pdf_folder_path, filename), filenames)\n",
    "\n",
    "    for result in results:\n",
    "        all_elements.extend(result)  # Extend the all_elements list\n",
    "\n",
    "    return all_elements"
   ]
  },
  {
   "cell_type": "code",
   "execution_count": 3,
   "metadata": {},
   "outputs": [
    {
     "name": "stderr",
     "output_type": "stream",
     "text": [
      "Some weights of the model checkpoint at microsoft/table-transformer-structure-recognition were not used when initializing TableTransformerForObjectDetection: ['model.backbone.conv_encoder.model.layer2.0.downsample.1.num_batches_tracked', 'model.backbone.conv_encoder.model.layer3.0.downsample.1.num_batches_tracked', 'model.backbone.conv_encoder.model.layer4.0.downsample.1.num_batches_tracked']\n",
      "- This IS expected if you are initializing TableTransformerForObjectDetection from the checkpoint of a model trained on another task or with another architecture (e.g. initializing a BertForSequenceClassification model from a BertForPreTraining model).\n",
      "- This IS NOT expected if you are initializing TableTransformerForObjectDetection from the checkpoint of a model that you expect to be exactly identical (initializing a BertForSequenceClassification model from a BertForSequenceClassification model).\n"
     ]
    }
   ],
   "source": [
    "pdf_folder_path = \"/Users/nathan/workspace/tcc/test\"\n",
    "raw_pdfs_elements = process_multiple_pdfs(pdf_folder_path)"
   ]
  },
  {
   "cell_type": "code",
   "execution_count": 4,
   "metadata": {},
   "outputs": [
    {
     "data": {
      "text/plain": [
       "17"
      ]
     },
     "execution_count": 4,
     "metadata": {},
     "output_type": "execute_result"
    }
   ],
   "source": [
    "len(raw_pdfs_elements)"
   ]
  },
  {
   "cell_type": "code",
   "execution_count": 5,
   "metadata": {},
   "outputs": [
    {
     "data": {
      "text/plain": [
       "[<unstructured.documents.elements.CompositeElement at 0x175a2e1e0>,\n",
       " <unstructured.documents.elements.Table at 0x286a0e2a0>,\n",
       " <unstructured.documents.elements.CompositeElement at 0x175a2e1b0>,\n",
       " <unstructured.documents.elements.CompositeElement at 0x175a2e450>,\n",
       " <unstructured.documents.elements.CompositeElement at 0x175a2e5d0>,\n",
       " <unstructured.documents.elements.CompositeElement at 0x175a2e4e0>,\n",
       " <unstructured.documents.elements.CompositeElement at 0x175a2e600>,\n",
       " <unstructured.documents.elements.CompositeElement at 0x175a2e660>,\n",
       " <unstructured.documents.elements.CompositeElement at 0x175a2e6f0>,\n",
       " <unstructured.documents.elements.CompositeElement at 0x175a2e5a0>,\n",
       " <unstructured.documents.elements.CompositeElement at 0x175a2e780>,\n",
       " <unstructured.documents.elements.CompositeElement at 0x175a2e720>,\n",
       " <unstructured.documents.elements.CompositeElement at 0x175a2e870>,\n",
       " <unstructured.documents.elements.CompositeElement at 0x175a2e2d0>,\n",
       " <unstructured.documents.elements.Table at 0x2cc90ca40>,\n",
       " <unstructured.documents.elements.CompositeElement at 0x175a2e120>,\n",
       " <unstructured.documents.elements.CompositeElement at 0x175a2e090>]"
      ]
     },
     "execution_count": 5,
     "metadata": {},
     "output_type": "execute_result"
    }
   ],
   "source": [
    "raw_pdfs_elements"
   ]
  },
  {
   "cell_type": "code",
   "execution_count": 6,
   "metadata": {},
   "outputs": [
    {
     "data": {
      "text/plain": [
       "{\"<class 'unstructured.documents.elements.CompositeElement'>\": 15,\n",
       " \"<class 'unstructured.documents.elements.Table'>\": 2}"
      ]
     },
     "execution_count": 6,
     "metadata": {},
     "output_type": "execute_result"
    }
   ],
   "source": [
    "# Create a dictionary to store counts of each type\n",
    "category_counts = {}\n",
    "\n",
    "for element in raw_pdfs_elements:\n",
    "    category = str(type(element))\n",
    "    if category in category_counts:\n",
    "        category_counts[category] += 1\n",
    "    else:\n",
    "        category_counts[category] = 1\n",
    "\n",
    "# Unique_categories will have unique elements\n",
    "unique_categories = set(category_counts.keys())\n",
    "category_counts"
   ]
  },
  {
   "cell_type": "code",
   "execution_count": 7,
   "metadata": {},
   "outputs": [],
   "source": [
    "from typing import Any\n",
    "from pydantic import BaseModel\n",
    "\n",
    "# Define the Element class based on potential types returned by partition_pdf\n",
    "class Element(BaseModel):\n",
    "    type: str  # Textual representation of the element type (e.g., \"table\", \"text\")\n",
    "    text: Any  # Content of the element, can be text, tables, or other data structures\n",
    "\n",
    "# Categorize by type\n",
    "def categorize_elements(raw_pdf_elements) -> list[Element]:\n",
    "    \"\"\"Categorizes elements by type and returns a dictionary with counts.\"\"\"\n",
    "    categorized_elements = [] # Initialize category counts\n",
    "    for element in raw_pdf_elements:\n",
    "        if \"unstructured.documents.elements.Table\" in str(type(element)):\n",
    "            categorized_elements.append(Element(type=\"table\", text=str(element)))\n",
    "        elif \"unstructured.documents.elements.CompositeElement\" in str(type(element)):\n",
    "            categorized_elements.append(Element(type=\"text\", text=str(element)))\n",
    "    return categorized_elements"
   ]
  },
  {
   "cell_type": "code",
   "execution_count": 8,
   "metadata": {},
   "outputs": [
    {
     "name": "stdout",
     "output_type": "stream",
     "text": [
      "17\n",
      "Number of tables: 2\n",
      "Number of text elements: 15\n"
     ]
    }
   ],
   "source": [
    "# Improved categorization function with clear structure\n",
    "all_categories = categorize_elements(raw_pdfs_elements)\n",
    "print(len(all_categories))\n",
    "\n",
    "# Tables\n",
    "table_elements = [e for e in all_categories if e.type == \"table\"]\n",
    "print(f\"Number of tables: {len(table_elements)}\")\n",
    "\n",
    "# Text\n",
    "text_elements = [e for e in all_categories if e.type == \"text\"]\n",
    "print(f\"Number of text elements: {len(text_elements)}\")"
   ]
  },
  {
   "cell_type": "code",
   "execution_count": 9,
   "metadata": {},
   "outputs": [
    {
     "data": {
      "text/plain": [
       "Element(type='text', text='10.13 - RESPONSABILIDADES\\n\\n10.13.1 As responsabilidades quanto ao cumprimento desta NR são solidárias aos contratantes e contratados envolvidos. (Revogado pela Portaria SEPRT n.º 915, de 30 de julho de 2019)\\n\\n10.13.2 É de responsabilidade dos contratantes manter os trabalhadores informados sobre os riscos a que estão expostos, instruindo-os quanto aos procedimentos e medidas de controle contra os riscos elétricos a serem adotados.\\n\\n10.13.3 Cabe à empresa, na ocorrência de acidentes de trabalho envolvendo instalações e serviços em eletricidade, propor e adotar medidas preventivas e corretivas.\\n\\n10.13.4 Cabe aos trabalhadores:\\n\\na) zelar pela sua segurança e saúde e a de outras pessoas que possam ser afetadas por suas ações ou omissões no trabalho;\\n\\nb) responsabilizar-se junto com a empresa pelo cumprimento das disposições legais e regulamentares, inclusive quanto aos procedimentos internos de segurança e saúde; e\\n\\nc) comunicar, de imediato, ao responsável pela execução do serviço as situações que considerar de risco para sua segurança e saúde e a de outras pessoas.\\n\\n10\\n\\n10.14 - DISPOSIÇÕES FINAIS\\n\\n10.14.1 Os trabalhadores devem interromper suas tarefas exercendo o direito de recusa, sempre que constatarem evidências de riscos graves e iminentes para sua segurança e saúde ou a de outras pessoas, comunicando imediatamente o fato a seu superior hierárquico, que diligenciará as medidas cabíveis. (Revogado pela Portaria SEPRT n.º 915, de 30 de julho de 2019)\\n\\n10.14.2 As empresas devem promover ações de controle de riscos originados por outrem em suas instalações elétricas e oferecer, de imediato, quando cabível, denúncia aos órgãos competentes.\\n\\n10.14.3 Na ocorrência do não cumprimento das normas constantes nesta NR, o MTE adotará as providências estabelecidas na NR-03.\\n\\n10.14.4 A documentação prevista nesta NR deve estar permanentemente à disposição dos trabalhadores que atuam em serviços e instalações elétricas, respeitadas as abrangências, limitações e interferências nas tarefas.\\n\\n10.14.5 A documentação prevista nesta NR deve estar, permanentemente, à disposição das autoridades competentes. (Revogado pela Portaria SEPRT n.º 915, de 30 de julho de 2019)\\n\\n10.14.6 Esta NR não é aplicável a instalações elétricas alimentadas por extra-baixa tensão.')"
      ]
     },
     "execution_count": 9,
     "metadata": {},
     "output_type": "execute_result"
    }
   ],
   "source": [
    "text_elements[10]"
   ]
  },
  {
   "cell_type": "code",
   "execution_count": 10,
   "metadata": {},
   "outputs": [
    {
     "data": {
      "text/plain": [
       "[Element(type='table', text='Publicação D.O.U. 06/07/78 Alterações/Atualizações D.O.U. 14/06/83 08/09/04 02/05/16 31/07/19'),\n",
       " Element(type='table', text='Rr - Raio de Faixa delimitação tensão entre zona Nominal da de risco e instalação controlada elétrica em em metros kV 0,20 1 0,22 1 e 3 0,25 3 e 6 0,35 6 e 10 0,38 10 e 15 0,40 15 e 20 0,56 20 e 30 0,58 30 e 36 0,63 36 e 45 0,83 45 e 60 0,90 60 e 70 1,00 70 e 110 110 e 132 1,10 132 e 150 1,20 150 e 220 1,60 220 e 275 1,80 275 e 380 2,50 380 e 480 3,20 480 e 700 5,20 Rc - Raio de delimitação entre zona controlada e livre em metros 0,70 1,22 1,25 1,35 1,38 1,40 1,56 1,58 1,63 1,83 1,90 2,00 3,10 3,20 3,60 3,80 4,50 5,20 7,20')]"
      ]
     },
     "execution_count": 10,
     "metadata": {},
     "output_type": "execute_result"
    }
   ],
   "source": [
    "table_elements"
   ]
  },
  {
   "cell_type": "markdown",
   "metadata": {},
   "source": [
    "### Data analytics"
   ]
  },
  {
   "cell_type": "code",
   "execution_count": null,
   "metadata": {},
   "outputs": [],
   "source": [
    "# analisar os crunks pai com filho(summarized by gemini model)\n",
    "# import pandas as pd\n",
    "\n",
    "# text_data = {\"Texts\": texts, \"Text_summaries\": text_summaries}\n",
    "# df = pd.DataFrame(text_data)\n",
    "\n",
    "# df.head()"
   ]
  },
  {
   "cell_type": "markdown",
   "metadata": {},
   "source": [
    "## Add to vectorstore\n",
    "Use Multi Vector Retriever with summaries:\n",
    "\n",
    "- InMemoryStore stores the raw text, tables\n",
    "- vectorstore stores the embedded summaries"
   ]
  },
  {
   "cell_type": "code",
   "execution_count": 11,
   "metadata": {},
   "outputs": [
    {
     "data": {
      "text/plain": [
       "GoogleGenerativeAIEmbeddings(model='models/embedding-001', task_type='retrieval_document', google_api_key=None, credentials=None, client_options=None, transport=None)"
      ]
     },
     "execution_count": 11,
     "metadata": {},
     "output_type": "execute_result"
    }
   ],
   "source": [
    "from langchain_google_genai import GoogleGenerativeAIEmbeddings\n",
    "\n",
    "gemini_embeddings = GoogleGenerativeAIEmbeddings(model=\"models/embedding-001\", task_type=\"retrieval_document\")\n",
    "gemini_embeddings"
   ]
  },
  {
   "cell_type": "markdown",
   "metadata": {},
   "source": [
    "#### Creating the Vectorial Database"
   ]
  },
  {
   "cell_type": "code",
   "execution_count": 12,
   "metadata": {},
   "outputs": [
    {
     "name": "stdout",
     "output_type": "stream",
     "text": [
      "                                 name\n",
      "0                          migrations\n",
      "1                    embeddings_queue\n",
      "2                 collection_metadata\n",
      "3                            segments\n",
      "4                    segment_metadata\n",
      "5                             tenants\n",
      "6                           databases\n",
      "7                         collections\n",
      "8                          embeddings\n",
      "9                  embedding_metadata\n",
      "10                         max_seq_id\n",
      "11          embedding_fulltext_search\n",
      "12     embedding_fulltext_search_data\n",
      "13      embedding_fulltext_search_idx\n",
      "14  embedding_fulltext_search_content\n",
      "15  embedding_fulltext_search_docsize\n",
      "16   embedding_fulltext_search_config \n",
      "\n",
      "Empty DataFrame\n",
      "Columns: [string_value]\n",
      "Index: [] \n",
      "\n",
      "\n"
     ]
    }
   ],
   "source": [
    "import sqlite3\n",
    "import pandas as pd\n",
    "from langchain_community.vectorstores import Chroma\n",
    "persist_directory = \"./chroma_db\"\n",
    "\n",
    "# setup to save to disk\n",
    "vectorstore = Chroma(collection_name=\"NR10\", \n",
    "                        embedding_function=gemini_embeddings,\n",
    "                        persist_directory=persist_directory)\n",
    "\n",
    "# Conexão ao banco de dados SQLite\n",
    "conn = sqlite3.connect('chroma_db/chroma.sqlite3')\n",
    "\n",
    "tables = pd.read_sql_query(\"SELECT name FROM sqlite_master WHERE type='table'\", conn)\n",
    "print(tables, \"\\n\")\n",
    "\n",
    "# Executa a consulta e retorna um DataFrame\n",
    "df = pd.read_sql_query(\"SELECT * FROM embedding_fulltext_search\", conn)\n",
    "\n",
    "# Exibe o DataFrame\n",
    "print(df,\"\\n\\n\")\n",
    "\n",
    "conn.close()"
   ]
  },
  {
   "cell_type": "markdown",
   "metadata": {},
   "source": [
    "#### Add the documents to the Vectorial Database"
   ]
  },
  {
   "cell_type": "code",
   "execution_count": 13,
   "metadata": {},
   "outputs": [
    {
     "data": {
      "text/plain": [
       "['08a857f5-0917-44e2-8616-9ac6942caafd',\n",
       " '93f2716f-35ce-407c-916b-6682a2fbf464']"
      ]
     },
     "execution_count": 13,
     "metadata": {},
     "output_type": "execute_result"
    }
   ],
   "source": [
    "import uuid\n",
    "from langchain_core.documents import Document\n",
    "\n",
    "# Apply to tables\n",
    "tables = [i.text for i in table_elements]\n",
    "# Apply to texts\n",
    "texts = [i.text for i in text_elements]\n",
    "\n",
    "# Add texts\n",
    "doc_ids = [str(uuid.uuid4()) for _ in texts]\n",
    "id_key = \"doc_id\"\n",
    "\n",
    "page_content_texts = [\n",
    "    Document(page_content=s, metadata={id_key: doc_ids[i]})\n",
    "    for i, s in enumerate(texts)\n",
    "]\n",
    "\n",
    "page_content_tables = [\n",
    "    Document(page_content=s, metadata={id_key: doc_ids[i]})\n",
    "    for i, s in enumerate(tables)\n",
    "]\n",
    "\n",
    "vectorstore.add_documents(page_content_texts)\n",
    "vectorstore.add_documents(page_content_tables)"
   ]
  },
  {
   "cell_type": "code",
   "execution_count": 14,
   "metadata": {},
   "outputs": [
    {
     "name": "stdout",
     "output_type": "stream",
     "text": [
      "                                         string_value\n",
      "0   NR 10 - SEGURANÇA EM INSTALAÇÕES E SERVIÇOS EM...\n",
      "1   Portaria MTb n.º 3.214, de 08 de junho de 1978...\n",
      "2   10.2 - MEDIDAS DE CONTROLE\\n\\n10.2.1 Em todas ...\n",
      "3   10.2.9.1 Nos trabalhos em instalações elétrica...\n",
      "4   segurança:\\n\\na) especificação das característ...\n",
      "5   f) instalação da sinalização de impedimento de...\n",
      "6   10.7 - TRABALHOS ENVOLVENDO ALTA TENSÃO (AT)\\n...\n",
      "7   10.8.5 A empresa deve estabelecer sistema de i...\n",
      "8   10.9 - PROTEÇÃO CONTRA INCÊNDIO E EXPLOSÃO\\n\\n...\n",
      "9   10.11 - PROCEDIMENTOS DE TRABALHO\\n\\n10.11.1 O...\n",
      "10  10.13 - RESPONSABILIDADES\\n\\n10.13.1 As respon...\n",
      "11  GLOSSÁRIO\\n\\n1. Alta Tensão (AT): tensão super...\n",
      "12  25. Sistema Elétrico: circuito ou circuitos el...\n",
      "13  Figura 1 - Distâncias no ar que delimitam radi...\n",
      "14  a) noções básicas; b) medidas preventivas; c) ...\n",
      "15  Publicação D.O.U. 06/07/78 Alterações/Atualiza...\n",
      "16  Rr - Raio de Faixa delimitação tensão entre zo... \n",
      "\n",
      "\n",
      "Colunas: Index(['string_value'], dtype='object') \n",
      "\n"
     ]
    }
   ],
   "source": [
    "import sqlite3\n",
    "import pandas as pd\n",
    "\n",
    "# Conexão ao banco de dados SQLite\n",
    "conn = sqlite3.connect('chroma_db/chroma.sqlite3')\n",
    "\n",
    "# Executa a consulta e retorna um DataFrame\n",
    "df = pd.read_sql_query(\"SELECT * FROM embedding_fulltext_search\", conn)\n",
    "\n",
    "# Exibe o DataFrame\n",
    "print(df,\"\\n\\n\")\n",
    "print(f\"Colunas: {df.columns} \\n\")\n",
    "\n",
    "# print(df['string_value'].iloc[1])\n",
    "\n",
    "# Fecha a conexão\n",
    "conn.close()"
   ]
  },
  {
   "cell_type": "markdown",
   "metadata": {},
   "source": [
    "### Visualization of the vector DB"
   ]
  },
  {
   "cell_type": "code",
   "execution_count": null,
   "metadata": {},
   "outputs": [],
   "source": [
    "import sqlite3\n",
    "import pandas as pd\n",
    "\n",
    "# Conexão ao banco de dados SQLite\n",
    "conn = sqlite3.connect('chroma_db/chroma.sqlite3')\n",
    "\n",
    "tables = pd.read_sql_query(\"SELECT name FROM sqlite_master WHERE type='table'\", conn)\n",
    "\n",
    "print(tables)\n",
    "\n",
    "conn.close()"
   ]
  },
  {
   "cell_type": "code",
   "execution_count": null,
   "metadata": {},
   "outputs": [],
   "source": [
    "import sqlite3\n",
    "import pandas as pd\n",
    "\n",
    "# Conexão ao banco de dados SQLite\n",
    "conn = sqlite3.connect('chroma_db/chroma.sqlite3')\n",
    "\n",
    "# Consulta SQL\n",
    "query = \"SELECT * FROM embedding_fulltext_search\"\n",
    "\n",
    "# Executa a consulta e retorna um DataFrame\n",
    "df = pd.read_sql_query(query, conn)\n",
    "\n",
    "# Exibe o DataFrame\n",
    "print(df,\"\\n\\n\")\n",
    "print(f\"Colunas: {df.columns}\")\n",
    "print(df['string_value'].iloc[1])\n",
    "\n",
    "# Fecha a conexão\n",
    "conn.close()"
   ]
  },
  {
   "cell_type": "markdown",
   "metadata": {},
   "source": [
    "## RAG Pipeline"
   ]
  },
  {
   "cell_type": "markdown",
   "metadata": {},
   "source": [
    "### Retriver"
   ]
  },
  {
   "cell_type": "markdown",
   "metadata": {},
   "source": [
    "#### Vector store-backed retriever"
   ]
  },
  {
   "cell_type": "code",
   "execution_count": 42,
   "metadata": {},
   "outputs": [
    {
     "data": {
      "text/plain": [
       "VectorStoreRetriever(tags=['Chroma', 'GoogleGenerativeAIEmbeddings'], vectorstore=<langchain_community.vectorstores.chroma.Chroma object at 0x283047260>, search_type='mmr')"
      ]
     },
     "execution_count": 42,
     "metadata": {},
     "output_type": "execute_result"
    }
   ],
   "source": [
    "# Load from disk\n",
    "# vectorstore_db = Chroma(\n",
    "#                         persist_directory=\"./chroma_db\",       # Directory of db\n",
    "#                         embedding_function=gemini_embeddings   # Embedding model\n",
    "#                    )\n",
    "\n",
    "# retriever = vectorstore.as_retriever(search_kwargs={\"k\": 1})\n",
    "\n",
    "# retriever = vectorstore.as_retriever(\n",
    "#     search_type=\"similarity_score_threshold\", search_kwargs={\"score_threshold\": 0.7}\n",
    "# )\n",
    "\n",
    "retriever = vectorstore.as_retriever(search_type=\"mmr\")\n",
    "\n",
    "retriever"
   ]
  },
  {
   "cell_type": "code",
   "execution_count": null,
   "metadata": {},
   "outputs": [],
   "source": [
    "query = \"O que diz o topico 10.2.8.1 da norma regulamentadora NR 10?\"\n",
    "docs = retriever.invoke(query)\n",
    "docs"
   ]
  },
  {
   "cell_type": "markdown",
   "metadata": {},
   "source": [
    "#### Parent Document Retriever"
   ]
  },
  {
   "cell_type": "markdown",
   "metadata": {},
   "source": [
    "#### Multivector Retriver"
   ]
  },
  {
   "cell_type": "code",
   "execution_count": null,
   "metadata": {},
   "outputs": [],
   "source": [
    "from langchain.retrievers.multi_vector import MultiVectorRetriever\n",
    "from langchain.storage import InMemoryStore\n",
    "from langchain_community.vectorstores import Chroma\n",
    "from langchain_core.documents import Document\n",
    "\n",
    "persist_directory = \"./chroma_db\"\n",
    "\n",
    "# Load from disk\n",
    "vectorstore = Chroma(collection_name=\"summaries\", \n",
    "                        embedding_function=gemini_embeddings,\n",
    "                        persist_directory=persist_directory)\n",
    "\n",
    "# The storage layer for the parent documents\n",
    "store = InMemoryStore()\n",
    "id_key = \"doc_id\"\n",
    "\n",
    "# The retriever (empty to start)\n",
    "retriever = MultiVectorRetriever(\n",
    "    vectorstore=vectorstore,\n",
    "    docstore=store,\n",
    "    id_key=id_key,\n",
    ")"
   ]
  },
  {
   "cell_type": "code",
   "execution_count": null,
   "metadata": {},
   "outputs": [],
   "source": [
    "from langchain_core.runnables import RunnablePassthrough\n",
    "from langchain_google_genai import GoogleGenerativeAI\n",
    "from langchain_core.prompts import ChatPromptTemplate\n",
    "from langchain_core.output_parsers import StrOutputParser\n",
    "from langchain_core.runnables import RunnableMap\n",
    "\n",
    "model = GoogleGenerativeAI(model=\"gemini-pro\", temperature=0.3, top_p=0.85)\n",
    "\n",
    "# Prompt template\n",
    "template = \"\"\"Você é um assistente chamado Spark e sua função é responder dúvidas e questionamentos relacionadas as instalações elétricas brasileiras com base no contexto, o qual pode incluir textos e/ou tabelas referentes as normas brasileiras (NBRs):\n",
    "{context}\n",
    "Question: {question}\n",
    "\n",
    "\"\"\"\n",
    "prompt = ChatPromptTemplate.from_template(template)\n",
    "\n",
    "# Função para imprimir o contexto\n",
    "def print_context(context):\n",
    "    print(\"Contexto fornecido:\", context)\n",
    "    return context\n",
    "\n",
    "# RAG pipeline com etapa intermediária para capturar e imprimir o contexto\n",
    "chain = (\n",
    "    {\"context\": retriever, \"question\": RunnablePassthrough()}\n",
    "    | RunnableMap({\"context\": print_context, \"question\": RunnablePassthrough()})\n",
    "    | prompt\n",
    "    | model\n",
    "    | StrOutputParser()\n",
    ")"
   ]
  },
  {
   "cell_type": "code",
   "execution_count": null,
   "metadata": {},
   "outputs": [],
   "source": [
    "# Invocar a chain e imprimir o resultado\n",
    "result = chain.invoke(\"O que diz o topico 10.2.8.1 da norma regulamentadora NR 10?\")\n",
    "print(\"Resposta:\", result)"
   ]
  },
  {
   "cell_type": "markdown",
   "metadata": {},
   "source": [
    "### Generate"
   ]
  },
  {
   "cell_type": "code",
   "execution_count": 48,
   "metadata": {},
   "outputs": [],
   "source": [
    "import textwrap\n",
    "from IPython.display import Markdown\n",
    "from langchain import PromptTemplate\n",
    "\n",
    "def to_markdown(text):\n",
    "  text = text.replace('•', '  *')\n",
    "  return Markdown(textwrap.indent(text, '> ', predicate=lambda _: True))\n",
    "\n",
    "# Prompt template to query Gemini\n",
    "llm_prompt_template = \"\"\"Você é um assistente para tarefas de resposta a perguntas.\n",
    "Use o contexto como base para responder à pergunta.\n",
    "Dê uma resposta da maneira mais completa e ao mesmo tempo objetiva.\\n\n",
    "Pergunta: {question} \\nContext: {context} \\nResposta:\"\"\"\n",
    "\n",
    "llm_prompt = PromptTemplate.from_template(llm_prompt_template)\n",
    "\n",
    "\n",
    "from langchain_google_genai import GoogleGenerativeAI\n",
    "\n",
    "llm = GoogleGenerativeAI(model=\"gemini-pro\",\n",
    "                 temperature=0.3, top_p=0.85)\n",
    "\n",
    "\n",
    "from langchain_core.runnables import RunnableMap\n",
    "from langchain.schema.runnable import RunnablePassthrough\n",
    "from langchain.schema import StrOutputParser\n",
    "\n",
    "# Combine data from documents to readable string format.\n",
    "def format_docs(docs):\n",
    "    return \"\\n\\n\".join(doc.page_content for doc in docs)\n",
    "\n",
    "# Função para imprimir o contexto\n",
    "def print_context(context):\n",
    "    print(\"Contexto fornecido:\", context)\n",
    "    return context\n",
    "\n",
    "rag_chain = (\n",
    "    {\"context\": retriever | format_docs, \"question\": RunnablePassthrough()}\n",
    "    | RunnableMap({\"context\": print_context, \"question\": RunnablePassthrough()})\n",
    "    | llm_prompt\n",
    "    | llm\n",
    "    | StrOutputParser()\n",
    ")"
   ]
  },
  {
   "cell_type": "code",
   "execution_count": 17,
   "metadata": {},
   "outputs": [
    {
     "name": "stdout",
     "output_type": "stream",
     "text": [
      "Contexto fornecido: {'context': 'NR 10 - SEGURANÇA EM INSTALAÇÕES E SERVIÇOS EM ELETRICIDADE', 'question': 'Qual é o objetivo principal da NR 10?'}\n"
     ]
    },
    {
     "data": {
      "text/plain": [
       "'Estabelecer requisitos e medidas de proteção para garantir a segurança e a saúde dos trabalhadores em instalações e serviços em eletricidade.'"
      ]
     },
     "execution_count": 17,
     "metadata": {},
     "output_type": "execute_result"
    }
   ],
   "source": [
    "query = \"Qual é o objetivo principal da NR 10?\"\n",
    "rag_chain.invoke(query)"
   ]
  },
  {
   "cell_type": "code",
   "execution_count": 26,
   "metadata": {},
   "outputs": [
    {
     "name": "stdout",
     "output_type": "stream",
     "text": [
      "Contexto fornecido: {'context': 'NR 10 - SEGURANÇA EM INSTALAÇÕES E SERVIÇOS EM ELETRICIDADE', 'question': 'Em quais tipos de atividades a NR 10 deve ser aplicada?'}\n"
     ]
    },
    {
     "data": {
      "text/markdown": [
       "> A NR 10 deve ser aplicada em todas as atividades que envolvam geração, transmissão, distribuição e utilização de energia elétrica, incluindo:\n",
       "> \n",
       "> * Instalação, manutenção e operação de linhas de transmissão e distribuição\n",
       "> * Instalação, manutenção e operação de subestações\n",
       "> * Instalação, manutenção e operação de usinas geradoras\n",
       "> * Instalação, manutenção e operação de equipamentos elétricos em indústrias, comércios e residências\n",
       "> * Serviços de eletricidade, como inspeções, testes e reparos"
      ],
      "text/plain": [
       "<IPython.core.display.Markdown object>"
      ]
     },
     "execution_count": 26,
     "metadata": {},
     "output_type": "execute_result"
    }
   ],
   "source": [
    "query = \"Em quais tipos de atividades a NR 10 deve ser aplicada?\"\n",
    "to_markdown(rag_chain.invoke(query))"
   ]
  },
  {
   "cell_type": "code",
   "execution_count": 38,
   "metadata": {},
   "outputs": [
    {
     "name": "stdout",
     "output_type": "stream",
     "text": [
      "Contexto fornecido: {'context': '10.13 - RESPONSABILIDADES\\n\\n10.13.1 As responsabilidades quanto ao cumprimento desta NR são solidárias aos contratantes e contratados envolvidos. (Revogado pela Portaria SEPRT n.º 915, de 30 de julho de 2019)\\n\\n10.13.2 É de responsabilidade dos contratantes manter os trabalhadores informados sobre os riscos a que estão expostos, instruindo-os quanto aos procedimentos e medidas de controle contra os riscos elétricos a serem adotados.\\n\\n10.13.3 Cabe à empresa, na ocorrência de acidentes de trabalho envolvendo instalações e serviços em eletricidade, propor e adotar medidas preventivas e corretivas.\\n\\n10.13.4 Cabe aos trabalhadores:\\n\\na) zelar pela sua segurança e saúde e a de outras pessoas que possam ser afetadas por suas ações ou omissões no trabalho;\\n\\nb) responsabilizar-se junto com a empresa pelo cumprimento das disposições legais e regulamentares, inclusive quanto aos procedimentos internos de segurança e saúde; e\\n\\nc) comunicar, de imediato, ao responsável pela execução do serviço as situações que considerar de risco para sua segurança e saúde e a de outras pessoas.\\n\\n10\\n\\n10.14 - DISPOSIÇÕES FINAIS\\n\\n10.14.1 Os trabalhadores devem interromper suas tarefas exercendo o direito de recusa, sempre que constatarem evidências de riscos graves e iminentes para sua segurança e saúde ou a de outras pessoas, comunicando imediatamente o fato a seu superior hierárquico, que diligenciará as medidas cabíveis. (Revogado pela Portaria SEPRT n.º 915, de 30 de julho de 2019)\\n\\n10.14.2 As empresas devem promover ações de controle de riscos originados por outrem em suas instalações elétricas e oferecer, de imediato, quando cabível, denúncia aos órgãos competentes.\\n\\n10.14.3 Na ocorrência do não cumprimento das normas constantes nesta NR, o MTE adotará as providências estabelecidas na NR-03.\\n\\n10.14.4 A documentação prevista nesta NR deve estar permanentemente à disposição dos trabalhadores que atuam em serviços e instalações elétricas, respeitadas as abrangências, limitações e interferências nas tarefas.\\n\\n10.14.5 A documentação prevista nesta NR deve estar, permanentemente, à disposição das autoridades competentes. (Revogado pela Portaria SEPRT n.º 915, de 30 de julho de 2019)\\n\\n10.14.6 Esta NR não é aplicável a instalações elétricas alimentadas por extra-baixa tensão.\\n\\nNR 10 - SEGURANÇA EM INSTALAÇÕES E SERVIÇOS EM ELETRICIDADE', 'question': 'Quais são as responsabilidades dos empregadores e dos trabalhadores em relação à NR 10?'}\n"
     ]
    },
    {
     "data": {
      "text/markdown": [
       "> **Responsabilidades dos Empregadores:**\n",
       "> \n",
       "> * Manter os trabalhadores informados sobre os riscos elétricos.\n",
       "> * Instruir os trabalhadores sobre os procedimentos e medidas de controle contra riscos elétricos.\n",
       "> * Propor e adotar medidas preventivas e corretivas em caso de acidentes de trabalho envolvendo eletricidade.\n",
       "> * Promover ações de controle de riscos originados por terceiros em suas instalações elétricas.\n",
       "> * Denunciar imediatamente aos órgãos competentes qualquer descumprimento das normas da NR 10.\n",
       "> \n",
       "> **Responsabilidades dos Trabalhadores:**\n",
       "> \n",
       "> * Zelar pela própria segurança e saúde, bem como pela segurança e saúde de outras pessoas que possam ser afetadas por suas ações ou omissões no trabalho.\n",
       "> * Responsabilizar-se junto com a empresa pelo cumprimento das disposições legais e regulamentares, incluindo os procedimentos internos de segurança e saúde.\n",
       "> * Comunicar imediatamente ao responsável pela execução do serviço qualquer situação que considerem de risco para sua segurança e saúde ou para a segurança e saúde de outras pessoas.\n",
       "> * Exercer o direito de recusa sempre que constatarem evidências de riscos graves e iminentes para sua segurança e saúde ou para a segurança e saúde de outras pessoas."
      ],
      "text/plain": [
       "<IPython.core.display.Markdown object>"
      ]
     },
     "execution_count": 38,
     "metadata": {},
     "output_type": "execute_result"
    }
   ],
   "source": [
    "query = \"Quais são as responsabilidades dos empregadores e dos trabalhadores em relação à NR 10?\"\n",
    "to_markdown(rag_chain.invoke(query))"
   ]
  },
  {
   "cell_type": "code",
   "execution_count": 47,
   "metadata": {},
   "outputs": [
    {
     "name": "stdout",
     "output_type": "stream",
     "text": [
      "Contexto fornecido: {'context': 'NR 10 - SEGURANÇA EM INSTALAÇÕES E SERVIÇOS EM ELETRICIDADE\\n\\nPublicação D.O.U. 06/07/78 Alterações/Atualizações D.O.U. 14/06/83 08/09/04 02/05/16 31/07/19\\n\\nRr - Raio de Faixa delimitação tensão entre zona Nominal da de risco e instalação controlada elétrica em em metros kV 0,20 1 0,22 1 e 3 0,25 3 e 6 0,35 6 e 10 0,38 10 e 15 0,40 15 e 20 0,56 20 e 30 0,58 30 e 36 0,63 36 e 45 0,83 45 e 60 0,90 60 e 70 1,00 70 e 110 110 e 132 1,10 132 e 150 1,20 150 e 220 1,60 220 e 275 1,80 275 e 380 2,50 380 e 480 3,20 480 e 700 5,20 Rc - Raio de delimitação entre zona controlada e livre em metros 0,70 1,22 1,25 1,35 1,38 1,40 1,56 1,58 1,63 1,83 1,90 2,00 3,10 3,20 3,60 3,80 4,50 5,20 7,20\\n\\n10.8.5 A empresa deve estabelecer sistema de identificação que permita a qualquer tempo conhecer a abrangência da autorização de cada trabalhador, conforme o item 10.8.4.\\n\\n7\\n\\n10.8.6 Os trabalhadores autorizados a trabalhar em instalações elétricas devem ter essa condição consignada no sistema de registro de empregado da empresa.\\n\\n10.8.7 Os trabalhadores autorizados a intervir em instalações elétricas devem ser submetidos a exame de saúde compatível com as atividades a serem desenvolvidas, realizado em conformidade com a NR 7 e registrado em seu prontuário médico.\\n\\n10.8.8 Os trabalhadores autorizados a intervir em instalações elétricas devem possuir treinamento específico sobre os riscos decorrentes do emprego da energia elétrica e as principais medidas de prevenção de acidentes em instalações elétricas, de acordo com o estabelecido no Anexo III desta NR. (Alterado pela Portaria MTPS n.º 508, de 29 de abril de 2016)\\n\\n10.8.8.1 A empresa concederá autorização na forma desta NR aos trabalhadores capacitados ou qualificados e aos profissionais habilitados que tenham participado com avaliação e aproveitamento satisfatórios dos cursos constantes do Anexo III desta NR. (Alterado pela Portaria MTPS n.º 508, de 29 de abril de 2016)\\n\\n10.8.8.2 Deve ser realizado um treinamento de reciclagem bienal e sempre que ocorrer alguma das situações a seguir:\\n\\na) troca de função ou mudança de empresa;\\n\\nb) retorno de afastamento ao trabalho ou inatividade, por período superior a três meses; c) modificações significativas nas instalações elétricas ou troca de métodos, processos e\\n\\norganização do trabalho.\\n\\n10.8.8.3 A carga horária e o conteúdo programático dos treinamentos de reciclagem destinados ao atendimento das alíneas “a”, “b” e “c” do item 10.8.8.2 devem atender as necessidades da situação que o motivou.\\n\\n10.8.8.4 Os trabalhos em áreas classificadas devem ser precedidos de treinamento especifico de acordo com risco envolvido.\\n\\n10.8.9 Os trabalhadores com atividades não relacionadas às instalações elétricas desenvolvidas em zona livre e na vizinhança da zona controlada, conforme define esta NR, devem ser instruídos formalmente com conhecimentos que permitam identificar e avaliar seus possíveis riscos e adotar as precauções cabíveis.', 'question': 'O que diz o tópico 10.2.9.1 da Norma NR 10?'}\n"
     ]
    },
    {
     "data": {
      "text/markdown": [
       "> O contexto fornecido não contém informações sobre o tópico 10.2.9.1 da Norma NR 10."
      ],
      "text/plain": [
       "<IPython.core.display.Markdown object>"
      ]
     },
     "execution_count": 47,
     "metadata": {},
     "output_type": "execute_result"
    }
   ],
   "source": [
    "query = \"O que diz o tópico 10.2.9.1 da Norma NR 10?\"\n",
    "to_markdown(rag_chain.invoke(query))"
   ]
  },
  {
   "cell_type": "code",
   "execution_count": 49,
   "metadata": {},
   "outputs": [
    {
     "name": "stdout",
     "output_type": "stream",
     "text": [
      "Contexto fornecido: {'context': 'NR 10 - SEGURANÇA EM INSTALAÇÕES E SERVIÇOS EM ELETRICIDADE\\n\\n10.8.5 A empresa deve estabelecer sistema de identificação que permita a qualquer tempo conhecer a abrangência da autorização de cada trabalhador, conforme o item 10.8.4.\\n\\n7\\n\\n10.8.6 Os trabalhadores autorizados a trabalhar em instalações elétricas devem ter essa condição consignada no sistema de registro de empregado da empresa.\\n\\n10.8.7 Os trabalhadores autorizados a intervir em instalações elétricas devem ser submetidos a exame de saúde compatível com as atividades a serem desenvolvidas, realizado em conformidade com a NR 7 e registrado em seu prontuário médico.\\n\\n10.8.8 Os trabalhadores autorizados a intervir em instalações elétricas devem possuir treinamento específico sobre os riscos decorrentes do emprego da energia elétrica e as principais medidas de prevenção de acidentes em instalações elétricas, de acordo com o estabelecido no Anexo III desta NR. (Alterado pela Portaria MTPS n.º 508, de 29 de abril de 2016)\\n\\n10.8.8.1 A empresa concederá autorização na forma desta NR aos trabalhadores capacitados ou qualificados e aos profissionais habilitados que tenham participado com avaliação e aproveitamento satisfatórios dos cursos constantes do Anexo III desta NR. (Alterado pela Portaria MTPS n.º 508, de 29 de abril de 2016)\\n\\n10.8.8.2 Deve ser realizado um treinamento de reciclagem bienal e sempre que ocorrer alguma das situações a seguir:\\n\\na) troca de função ou mudança de empresa;\\n\\nb) retorno de afastamento ao trabalho ou inatividade, por período superior a três meses; c) modificações significativas nas instalações elétricas ou troca de métodos, processos e\\n\\norganização do trabalho.\\n\\n10.8.8.3 A carga horária e o conteúdo programático dos treinamentos de reciclagem destinados ao atendimento das alíneas “a”, “b” e “c” do item 10.8.8.2 devem atender as necessidades da situação que o motivou.\\n\\n10.8.8.4 Os trabalhos em áreas classificadas devem ser precedidos de treinamento especifico de acordo com risco envolvido.\\n\\n10.8.9 Os trabalhadores com atividades não relacionadas às instalações elétricas desenvolvidas em zona livre e na vizinhança da zona controlada, conforme define esta NR, devem ser instruídos formalmente com conhecimentos que permitam identificar e avaliar seus possíveis riscos e adotar as precauções cabíveis.\\n\\nRr - Raio de Faixa delimitação tensão entre zona Nominal da de risco e instalação controlada elétrica em em metros kV 0,20 1 0,22 1 e 3 0,25 3 e 6 0,35 6 e 10 0,38 10 e 15 0,40 15 e 20 0,56 20 e 30 0,58 30 e 36 0,63 36 e 45 0,83 45 e 60 0,90 60 e 70 1,00 70 e 110 110 e 132 1,10 132 e 150 1,20 150 e 220 1,60 220 e 275 1,80 275 e 380 2,50 380 e 480 3,20 480 e 700 5,20 Rc - Raio de delimitação entre zona controlada e livre em metros 0,70 1,22 1,25 1,35 1,38 1,40 1,56 1,58 1,63 1,83 1,90 2,00 3,10 3,20 3,60 3,80 4,50 5,20 7,20\\n\\n25. Sistema Elétrico: circuito ou circuitos elétricos inter-relacionados destinados a atingir um determinado objetivo.\\n\\n26. Sistema Elétrico de Potência (SEP): conjunto das instalações e equipamentos destinados à geração, transmissão e distribuição de energia elétrica até a medição, inclusive.\\n\\n27. Tensão de Segurança: extra baixa tensão originada em uma fonte de segurança.\\n\\n28. Trabalho em Proximidade: trabalho durante o qual o trabalhador pode entrar na zona controlada, ainda que seja com uma parte do seu corpo ou com extensões condutoras, representadas por materiais, ferramentas ou equipamentos que manipule.\\n\\n29. Travamento: ação destinada a manter, por meios mecânicos, um dispositivo de manobra fixo numa determinada posição, de forma a impedir uma operação não autorizada.\\n\\n30. Zona de Risco: entorno de parte condutora energizada, não segregada, acessível inclusive acidentalmente, de dimensões estabelecidas de acordo com o nível de tensão, cuja aproximação só é permitida a profissionais autorizados e com a adoção de técnicas e instrumentos apropriados de trabalho.\\n\\n31. Zona Controlada: entorno de parte condutora energizada, não segregada, acessível, de dimensões estabelecidas de acordo com o nível de tensão, cuja aproximação só é permitida a profissionais autorizados.\\n\\nANEXO II\\n\\n13\\n\\nZONA DE RISCO E ZONA CONTROLADA\\n\\nTabela de raios de delimitação de zonas de risco, controlada e livre.\\n\\nde', 'question': 'Quais são as exigências da NR 10 para as instalações elétricas em áreas classificadas?'}\n"
     ]
    },
    {
     "data": {
      "text/markdown": [
       "> O texto fornecido não contém informações sobre as exigências da NR 10 para instalações elétricas em áreas classificadas."
      ],
      "text/plain": [
       "<IPython.core.display.Markdown object>"
      ]
     },
     "execution_count": 49,
     "metadata": {},
     "output_type": "execute_result"
    }
   ],
   "source": [
    "query = \"Quais são as exigências da NR 10 para as instalações elétricas em áreas classificadas?\"\n",
    "to_markdown(rag_chain.invoke(query))"
   ]
  }
 ],
 "metadata": {
  "kernelspec": {
   "display_name": "tcc",
   "language": "python",
   "name": "python3"
  },
  "language_info": {
   "codemirror_mode": {
    "name": "ipython",
    "version": 3
   },
   "file_extension": ".py",
   "mimetype": "text/x-python",
   "name": "python",
   "nbconvert_exporter": "python",
   "pygments_lexer": "ipython3",
   "version": "3.12.2"
  }
 },
 "nbformat": 4,
 "nbformat_minor": 2
}
